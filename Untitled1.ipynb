{
  "nbformat": 4,
  "nbformat_minor": 0,
  "metadata": {
    "colab": {
      "provenance": [],
      "authorship_tag": "ABX9TyN4jgqfnfJ7zcFwF4+jRXxe",
      "include_colab_link": true
    },
    "kernelspec": {
      "name": "python3",
      "display_name": "Python 3"
    },
    "language_info": {
      "name": "python"
    }
  },
  "cells": [
    {
      "cell_type": "markdown",
      "metadata": {
        "id": "view-in-github",
        "colab_type": "text"
      },
      "source": [
        "<a href=\"https://colab.research.google.com/github/Morris136/Team2/blob/main/Untitled1.ipynb\" target=\"_parent\"><img src=\"https://colab.research.google.com/assets/colab-badge.svg\" alt=\"Open In Colab\"/></a>"
      ]
    },
    {
      "cell_type": "code",
      "source": [
        "import openai\n",
        "\n",
        "# 設定你的 API 金鑰\n",
        "openai.api_key = \"import openai\n",
        "\n",
        "# 設定你的 API 金鑰\n",
        "openai.api_key = \"你的_API_KEY\"\n",
        "\n",
        "# 定義一個函數來傳送提示並取得回應\n",
        "def ask_chatgpt(prompt, model=\"gpt-4\"):\n",
        "    try:\n",
        "        response = openai.ChatCompletion.create(\n",
        "            model=model,\n",
        "            messages=[\n",
        "                {\"role\": \"system\", \"content\": \"你是一個有用的助手。\"},\n",
        "                {\"role\": \"user\", \"content\": prompt}\n",
        "            ],\n",
        "            temperature=0.7,\n",
        "            max_tokens=300\n",
        "        )\n",
        "        return response['choices'][0]['message']['content'].strip()\n",
        "    except Exception as e:\n",
        "        return f\"發生錯誤：{str(e)}\"\n",
        "\n",
        "# 測試：自動發送幾個提示\n",
        "prompts = [\n",
        "    \"請用一句話解釋什麼是機器學習。\",\n",
        "    \"列出三個Python資料型別。\",\n",
        "    \"幫我寫一個可以反轉字串的Python函數。\"\n",
        "]\n",
        "\n",
        "for idx, p in enumerate(prompts, 1):\n",
        "    print(f\"\\n問題 {idx}: {p}\")\n",
        "    reply = ask_chatgpt(p)\n",
        "    print(f\"回答 {idx}: {reply}\")\n",
        "\"\n",
        "\n",
        "# 定義一個函數來傳送提示並取得回應\n",
        "def ask_chatgpt(prompt, model=\"gpt-4\"):\n",
        "    try:\n",
        "        response = openai.ChatCompletion.create(\n",
        "            model=model,\n",
        "            messages=[\n",
        "                {\"role\": \"system\", \"content\": \"你是一個有用的助手。\"},\n",
        "                {\"role\": \"user\", \"content\": prompt}\n",
        "            ],\n",
        "            temperature=0.7,\n",
        "            max_tokens=300\n",
        "        )\n",
        "        return response['choices'][0]['message']['content'].strip()\n",
        "    except Exception as e:\n",
        "        return f\"發生錯誤：{str(e)}\"\n",
        "\n",
        "# 測試：自動發送幾個提示\n",
        "prompts = [\n",
        "    \"請用一句話解釋什麼是機器學習。\",\n",
        "    \"列出三個Python資料型別。\",\n",
        "    \"幫我寫一個可以反轉字串的Python函數。\"\n",
        "]\n",
        "\n",
        "for idx, p in enumerate(prompts, 1):\n",
        "    print(f\"\\n問題 {idx}: {p}\")\n",
        "    reply = ask_chatgpt(p)\n",
        "    print(f\"回答 {idx}: {reply}\")"
      ],
      "metadata": {
        "id": "94V9mtW0j881"
      },
      "execution_count": null,
      "outputs": []
    }
  ]
}