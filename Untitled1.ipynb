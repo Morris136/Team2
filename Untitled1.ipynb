{
  "nbformat": 4,
  "nbformat_minor": 0,
  "metadata": {
    "colab": {
      "provenance": [],
      "include_colab_link": true
    },
    "kernelspec": {
      "name": "python3",
      "display_name": "Python 3"
    },
    "language_info": {
      "name": "python"
    }
  },
  "cells": [
    {
      "cell_type": "markdown",
      "metadata": {
        "id": "view-in-github",
        "colab_type": "text"
      },
      "source": [
        "<a href=\"https://colab.research.google.com/github/Morris136/Team2/blob/main/Untitled1.ipynb\" target=\"_parent\"><img src=\"https://colab.research.google.com/assets/colab-badge.svg\" alt=\"Open In Colab\"/></a>"
      ]
    },
    {
      "cell_type": "code",
      "source": [
        "import google.generativeai as genai\n",
        "from google.generativeai.types import GenerationConfig\n",
        "\n",
        "def generate_answer(prompt, temperature=0.7, max_tokens=256):\n",
        "    # Create generation configuration\n",
        "    config = GenerationConfig(\n",
        "        temperature=temperature,\n",
        "        max_output_tokens=max_tokens\n",
        "    )\n",
        "\n",
        "    # Generate content using the config\n",
        "    response = genai.GenerativeModel('gemini-pro').generate_content(\n",
        "        prompt,\n",
        "        generation_config=config\n",
        "    )\n",
        "\n",
        "    return response.text\n"
      ],
      "metadata": {
        "id": "29CCt4ZaI3Y_"
      },
      "execution_count": null,
      "outputs": []
    }
  ]
}