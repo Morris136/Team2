{
  "nbformat": 4,
  "nbformat_minor": 0,
  "metadata": {
    "colab": {
      "provenance": [],
      "include_colab_link": true
    },
    "kernelspec": {
      "name": "python3",
      "display_name": "Python 3"
    },
    "language_info": {
      "name": "python"
    }
  },
  "cells": [
    {
      "cell_type": "markdown",
      "metadata": {
        "id": "view-in-github",
        "colab_type": "text"
      },
      "source": [
        "<a href=\"https://colab.research.google.com/github/Morris136/Team2/blob/main/Untitled0.ipynb\" target=\"_parent\"><img src=\"https://colab.research.google.com/assets/colab-badge.svg\" alt=\"Open In Colab\"/></a>"
      ]
    },
    {
      "cell_type": "code",
      "source": [
        "import os\n",
        "import google.generativeai as genai\n",
        "from google.generativeai.types import GenerationConfig\n",
        "\n",
        "# ✅ 替換成你自己的 API 金鑰\n",
        "GOOGLE_API_KEY = \"你的_API_金鑰\"\n",
        "genai.configure(api_key=GOOGLE_API_KEY)\n",
        "\n",
        "# ✅ 定義函式，支援 temperature 與 max_tokens\n",
        "def generate_answer(prompt, temperature=0.7, max_tokens=256):\n",
        "    model = genai.GenerativeModel('gemini-pro')\n",
        "\n",
        "    config = GenerationConfig(\n",
        "        temperature=temperature,\n",
        "        max_output_tokens=max_tokens\n",
        "    )\n",
        "\n",
        "    response = model.generate_content(\n",
        "        prompt,\n",
        "        generation_config=config\n",
        "    )\n",
        "\n",
        "    return response.text\n",
        "\n",
        "# ✅ 測試輸入\n",
        "if __name__ == \"__main__\":\n",
        "    prompt = \"Explain how photosynthesis works in simple terms.\"\n",
        "    answer = generate_answer(prompt, temperature=0.5, max_tokens=100)\n",
        "    print(\"🔹 Model Answer:\\n\", answer)\n"
      ],
      "metadata": {
        "id": "VR5AitZGQmp_"
      },
      "execution_count": null,
      "outputs": []
    }
  ]
}