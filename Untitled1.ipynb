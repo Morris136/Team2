{
  "nbformat": 4,
  "nbformat_minor": 0,
  "metadata": {
    "colab": {
      "provenance": [],
      "authorship_tag": "ABX9TyM7UIdHRHpRNzgnaD+KHYof",
      "include_colab_link": true
    },
    "kernelspec": {
      "name": "python3",
      "display_name": "Python 3"
    },
    "language_info": {
      "name": "python"
    }
  },
  "cells": [
    {
      "cell_type": "markdown",
      "metadata": {
        "id": "view-in-github",
        "colab_type": "text"
      },
      "source": [
        "<a href=\"https://colab.research.google.com/github/Morris136/Team2/blob/main/Untitled1.ipynb\" target=\"_parent\"><img src=\"https://colab.research.google.com/assets/colab-badge.svg\" alt=\"Open In Colab\"/></a>"
      ]
    },
    {
      "cell_type": "code",
      "source": [
        "# 🔧 安裝 Gemini API 套件\n",
        "!pip install -q google-generativeai\n",
        "\n",
        "# 📚 匯入套件\n",
        "import google.generativeai as genai\n",
        "import os\n",
        "from datetime import datetime\n",
        "\n",
        "# 🔑 設定 Gemini API 金鑰（請在此處輸入你的 API 金鑰）\n",
        "genai.configure(api_key=\"YOUR_API_KEY\")  # ←←← ←←← 請務必換成你自己的 API 金鑰！\n",
        "\n",
        "# 🚀 初始化模型\n",
        "model = genai.GenerativeModel(\"gemini-pro\")\n",
        "\n",
        "# ✨ 故事生成函式\n",
        "def generate_story(setting, characters, theme, style=\"溫馨\", length=\"短篇\"):\n",
        "    prompt = f\"\"\"\n",
        "請根據以下條件創作一篇{length}故事：\n",
        "\n",
        "【主題】{theme}\n",
        "【角色】{characters}\n",
        "【背景設定】{setting}\n",
        "【風格】{style}\n",
        "\n",
        "請寫出完整故事正文，包含開端、衝突、轉折與結尾，長度約 300–500 字，使用自然、流暢的敘述。\n",
        "\"\"\"\n",
        "    try:\n",
        "        response = model.generate_content(prompt)\n",
        "        return response.text\n",
        "    except Exception as e:\n",
        "        return f\"⚠️ 發生錯誤：{str(e)}\"\n",
        "\n",
        "# 🧾 使用者輸入條件\n",
        "setting = \"未來世界，一個漂浮在空中的高科技城市\"\n",
        "characters = \"一位孤獨的機器人與一位失憶的少女\"\n",
        "theme = \"尋找自我與友情\"\n",
        "style = \"感人科幻\"\n",
        "\n",
        "# 📖 生成故事\n",
        "story = generate_story(setting, characters, theme, style)\n",
        "print(\"📚 生成的故事：\\n\")\n",
        "print(story)\n",
        "\n",
        "# 💾 儲存為檔案\n",
        "filename = f\"gemini_story_{datetime.now().strftime('%Y%m%d_%H%M%S')}.txt\"\n",
        "with open(filename, \"w\", encoding=\"utf-8\") as f:\n",
        "    f.write(\"【背景】\" + setting + \"\\n\")\n",
        "    f.write(\"【角色】\" + characters + \"\\n\")\n",
        "    f.write(\"【主題】\" + theme + \"\\n\")\n",
        "    f.write(\"【風格】\" + style + \"\\n\\n\")\n",
        "    f.write(story)\n",
        "\n",
        "print(f\"\\n✅ 故事已儲存為：{filename}\")\n"
      ],
      "metadata": {
        "id": "e1AUGNyGp4uB"
      },
      "execution_count": null,
      "outputs": []
    },
    {
      "cell_type": "markdown",
      "source": [
        "在使用者給予條件之後，程式會生成一段短篇故事，讓非專業使用者也可以快速生成出一段屬於自己的故事，適用於輔助創作、教育展示等。"
      ],
      "metadata": {
        "id": "M9WTLPZvp67U"
      }
    }
  ]
}