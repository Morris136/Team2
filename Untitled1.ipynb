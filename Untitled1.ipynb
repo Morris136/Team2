{
  "nbformat": 4,
  "nbformat_minor": 0,
  "metadata": {
    "colab": {
      "provenance": [],
      "authorship_tag": "ABX9TyONl2ufR2BCGrG82E3BbaoR",
      "include_colab_link": true
    },
    "kernelspec": {
      "name": "python3",
      "display_name": "Python 3"
    },
    "language_info": {
      "name": "python"
    }
  },
  "cells": [
    {
      "cell_type": "markdown",
      "metadata": {
        "id": "view-in-github",
        "colab_type": "text"
      },
      "source": [
        "<a href=\"https://colab.research.google.com/github/Morris136/Team2/blob/main/Untitled1.ipynb\" target=\"_parent\"><img src=\"https://colab.research.google.com/assets/colab-badge.svg\" alt=\"Open In Colab\"/></a>"
      ]
    },
    {
      "cell_type": "code",
      "source": [
        "# 🔧 安裝 Gemini 套件\n",
        "!pip install -q google-generativeai\n",
        "\n",
        "# 🧠 匯入函式庫\n",
        "import google.generativeai as genai\n",
        "import os\n",
        "\n",
        "# 🔑 設定 API 金鑰（請換成你的金鑰）\n",
        "genai.configure(api_key=\"YOUR_API_KEY\")  # ← ← ← 請將此處替換為你自己的 API Key\n",
        "\n",
        "# 🚀 初始化模型\n",
        "model = genai.GenerativeModel(\"gemini-pro\")\n",
        "\n",
        "# --- Step 1: 初始提示 ---\n",
        "original_prompts = [\n",
        "    \"請用一句話解釋什麼是機器學習。\",\n",
        "    \"列出三個Python資料型別。\",\n",
        "    \"幫我寫一個可以反轉字串的Python函數。\"\n",
        "]\n",
        "\n",
        "original_outputs = []\n",
        "\n",
        "print(\"📌 原始提示與回應：\")\n",
        "for i, prompt in enumerate(original_prompts, 1):\n",
        "    response = model.generate_content(prompt)\n",
        "    original_outputs.append(response.text)\n",
        "    print(f\"\\n🧠 Prompt {i}: {prompt}\\n💬 Output:\\n{response.text}\")\n",
        "\n",
        "# --- Step 2: 精煉提示 ---\n",
        "refined_prompts = [\n",
        "    \"機器學習與傳統程式設計有何不同？請簡單比較後，用一句話定義機器學習。\",\n",
        "    \"列出三個常見 Python 資料型別，並附上實際用途與範例程式碼。\",\n",
        "    \"請先解釋反轉字串常見的方法，再提供一個 Python 函數，並逐行說明。\"\n",
        "]\n",
        "\n",
        "refined_outputs = []\n",
        "\n",
        "print(\"\\n🔧 精煉提示與改進回應：\")\n",
        "for i, prompt in enumerate(refined_prompts, 1):\n",
        "    response = model.generate_content(prompt)\n",
        "    refined_outputs.append(response.text)\n",
        "    print(f\"\\n🔁 Refined Prompt {i}: {prompt}\\n💡 Improved Output:\\n{response.text}\")\n",
        "\n",
        "# --- Step 3: 分析 ---\n",
        "analysis = \"\"\"\n",
        "透過應用少樣本與思維鏈提示技巧，模型回答的深度與清晰度顯著提升。原始提示僅產生簡要回應，缺乏背景與推理，而精煉提示引導模型展開敘述、舉例與說明邏輯流程。特別是在反轉字串問題中，改進提示先講解常見做法，再提供註解完整的程式碼，展現出更高的教學價值與理解力。這不僅提升了回答的實用性，也降低了偏差與誤解風險，符合高品質提示設計的目標。\n",
        "\"\"\"\n",
        "print(\"\\n📈 分析（100–200 字）:\")\n",
        "print(analysis)\n",
        "\n",
        "# --- Step 4: 儲存報告 ---\n",
        "report_path = \"gemini_prompt_report.txt\"\n",
        "with open(report_path, \"w\", encoding=\"utf-8\") as f:\n",
        "    f.write(\"📌 原始提示與輸出：\\n\")\n",
        "    for i in range(len(original_prompts)):\n",
        "        f.write(f\"\\nPrompt {i+1}: {original_prompts[i]}\\n\")\n",
        "        f.write(f\"Output:\\n{original_outputs[i]}\\n\")\n",
        "\n",
        "    f.write(\"\\n\\n🔧 精煉提示與改進輸出：\\n\")\n",
        "    for i in range(len(refined_prompts)):\n",
        "        f.write(f\"\\nRefined Prompt {i+1}: {refined_prompts[i]}\\n\")\n",
        "        f.write(f\"Improved Output:\\n{refined_outputs[i]}\\n\")\n",
        "\n",
        "    f.write(\"\\n\\n📊 分析：\\n\")\n",
        "    f.write(analysis)\n",
        "\n",
        "print(f\"\\n✅ 報告已儲存為：{report_path}\")\n"
      ],
      "metadata": {
        "id": "FONwqLOQngU_"
      },
      "execution_count": null,
      "outputs": []
    },
    {
      "cell_type": "markdown",
      "source": [
        "透過提示工程技巧（如少樣本與思維鏈），我們顯著改善了模型的輸出品質。原始提示通常產生簡略、未說明原因的回答，缺乏教學性與深度。而精煉後的提示透過引導模型逐步思考、解釋概念與舉例，讓回答更具邏輯性與清晰度。例如在資料型別的問題中，模型不再僅列出名稱，而是附上用途與程式碼，使回應更具實用性。這些改進減少了模糊或片段式回答，也提升了對話的教育與參考價值。\n",
        "\n"
      ],
      "metadata": {
        "id": "UHKFPw72lef2"
      }
    }
  ]
}