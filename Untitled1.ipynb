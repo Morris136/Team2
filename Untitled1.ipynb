{
  "nbformat": 4,
  "nbformat_minor": 0,
  "metadata": {
    "colab": {
      "provenance": [],
      "authorship_tag": "ABX9TyOBid0nWKcWaSxsty2hrsBw",
      "include_colab_link": true
    },
    "kernelspec": {
      "name": "python3",
      "display_name": "Python 3"
    },
    "language_info": {
      "name": "python"
    }
  },
  "cells": [
    {
      "cell_type": "markdown",
      "metadata": {
        "id": "view-in-github",
        "colab_type": "text"
      },
      "source": [
        "<a href=\"https://colab.research.google.com/github/Morris136/Team2/blob/main/Untitled1.ipynb\" target=\"_parent\"><img src=\"https://colab.research.google.com/assets/colab-badge.svg\" alt=\"Open In Colab\"/></a>"
      ]
    },
    {
      "cell_type": "code",
      "source": [
        "import openai\n",
        "import os\n",
        "import logging\n",
        "from dotenv import load_dotenv\n",
        "\n",
        "# 初始化 log\n",
        "logging.basicConfig(level=logging.INFO, format='%(asctime)s - %(levelname)s - %(message)s')\n",
        "\n",
        "# 載入 API 金鑰\n",
        "load_dotenv()\n",
        "api_key = os.getenv(\"OPENAI_API_KEY\")\n",
        "if not api_key:\n",
        "    raise EnvironmentError(\"找不到 API 金鑰，請確認 .env 檔案。\")\n",
        "openai.api_key = api_key\n",
        "\n",
        "# GPT 互動函數\n",
        "def ask_chatgpt(prompt: str, model: str = \"gpt-4\") -> str:\n",
        "    try:\n",
        "        logging.info(f\"發送提示：{prompt}\")\n",
        "        response = openai.ChatCompletion.create(\n",
        "            model=model,\n",
        "            messages=[\n",
        "                {\"role\": \"system\", \"content\": \"你是一個有幫助且準確的助手。\"},\n",
        "                {\"role\": \"user\", \"content\": prompt}\n",
        "            ],\n",
        "            temperature=0.7,\n",
        "            max_tokens=300\n",
        "        )\n",
        "        answer = response['choices'][0]['message']['content'].strip()\n",
        "        logging.info(\"接收到回應\")\n",
        "        return answer\n",
        "    except Exception as e:\n",
        "        logging.error(f\"錯誤：{e}\")\n",
        "        return f\"❗ 發生錯誤：{str(e)}\"\n",
        "\n",
        "# 問題列表\n",
        "prompts = [\n",
        "    \"請用一句話解釋什麼是機器學習。\",\n",
        "    \"列出三個Python資料型別。\",\n",
        "    \"幫我寫一個可以反轉字串的Python函數。\"\n",
        "]\n",
        "\n",
        "# 執行互動\n",
        "for i, prompt in enumerate(prompts, start=1):\n",
        "    print(f\"\\n🧠 問題 {i}: {prompt}\")\n",
        "    answer = ask_chatgpt(prompt)\n",
        "    print(f\"💬 回答 {i}:\\n{answer}\")\n"
      ],
      "metadata": {
        "id": "pUDb3gTtlczB"
      },
      "execution_count": null,
      "outputs": []
    },
    {
      "cell_type": "markdown",
      "source": [
        "本程式結構經過優化，具備更高的安全性與可維護性。使用 .env 儲存金鑰避免洩漏，並加入 logging 模組記錄請求與錯誤。透過函數封裝與清晰的流程控制，未來可輕易擴充更多功能。這種設計適用於自動化測試、教育平台或對話資料收集任務。"
      ],
      "metadata": {
        "id": "0PcLqy_klkBB"
      }
    },
    {
      "cell_type": "markdown",
      "source": [],
      "metadata": {
        "id": "UHKFPw72lef2"
      }
    }
  ]
}